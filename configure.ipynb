{
 "cells": [
  {
   "cell_type": "markdown",
   "metadata": {},
   "source": [
    "# Installation script\n",
    "\n",
    "This script just copies the files that are in the standard place where Tensorflow keeps downloaded data up to the data store within the AML Workspace.\n",
    "\n",
    "Note that the datastore is inside the Azure Files section of the storage account within the ```JuliaDemo``` resource group below.\n",
    "\n"
   ]
  },
  {
   "cell_type": "code",
   "execution_count": 1,
   "metadata": {},
   "outputs": [
    {
     "name": "stdout",
     "output_type": "stream",
     "text": [
      "SDK version: 0.1.68\n"
     ]
    }
   ],
   "source": [
    "import azureml.core\n",
    "print(\"SDK version:\", azureml.core.__version__)"
   ]
  },
  {
   "cell_type": "code",
   "execution_count": 2,
   "metadata": {},
   "outputs": [
    {
     "data": {
      "text/plain": [
       "'TechSummit'"
      ]
     },
     "execution_count": 2,
     "metadata": {},
     "output_type": "execute_result"
    }
   ],
   "source": [
    "from azureml.core import Workspace\n",
    "\n",
    "ws = Workspace.create(name='TechSummit', \n",
    "                      subscription_id='15ae9cb6-95c1-483d-a0e3-b1a1a3b06324', \n",
    "                      resource_group='juliademo', \n",
    "                      location='eastus2',\n",
    "                      exist_ok=True)\n",
    "ws.name"
   ]
  },
  {
   "cell_type": "markdown",
   "metadata": {},
   "source": [
    "Upload the training and testing datasets to the Workspace"
   ]
  },
  {
   "cell_type": "code",
   "execution_count": 7,
   "metadata": {},
   "outputs": [
    {
     "name": "stderr",
     "output_type": "stream",
     "text": [
      "Target already exists. Skipping upload for mnist\\t10k-images-idx3-ubyte.gz\n",
      "Target already exists. Skipping upload for mnist\\t10k-labels-idx1-ubyte.gz\n",
      "Target already exists. Skipping upload for mnist\\train-images-idx3-ubyte.gz\n",
      "Target already exists. Skipping upload for mnist\\train-labels-idx1-ubyte.gz\n"
     ]
    }
   ],
   "source": [
    "ds = ws.get_default_datastore()\n",
    "mnist_data = ds.upload(src_dir = '/tmp/tensorflow/mnist/input_data', target_path = 'mnist', show_progress = True)"
   ]
  },
  {
   "cell_type": "markdown",
   "metadata": {},
   "source": [
    "## Things you should do every single time\n",
    "\n",
    "To ensure that the demo script can run from start to finish, you'll need to ensure that a few things are done:\n",
    "\n",
    "1. Ensure that the ```tf-mnist-svc``` deplyment is deleted."
   ]
  },
  {
   "cell_type": "code",
   "execution_count": null,
   "metadata": {},
   "outputs": [],
   "source": []
  }
 ],
 "metadata": {
  "kernelspec": {
   "display_name": "Python [conda env:py36]",
   "language": "python",
   "name": "conda-env-py36-py"
  },
  "language_info": {
   "codemirror_mode": {
    "name": "ipython",
    "version": 3
   },
   "file_extension": ".py",
   "mimetype": "text/x-python",
   "name": "python",
   "nbconvert_exporter": "python",
   "pygments_lexer": "ipython3",
   "version": "3.6.6"
  }
 },
 "nbformat": 4,
 "nbformat_minor": 2
}
