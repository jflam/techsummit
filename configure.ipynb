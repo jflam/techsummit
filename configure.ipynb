{
 "cells": [
  {
   "cell_type": "markdown",
   "metadata": {},
   "source": [
    "# Installation script\n",
    "\n"
   ]
  },
  {
   "cell_type": "code",
   "execution_count": 3,
   "metadata": {},
   "outputs": [
    {
     "ename": "ModuleNotFoundError",
     "evalue": "No module named 'azureml'",
     "output_type": "error",
     "traceback": [
      "\u001b[1;31m---------------------------------------------------------------------------\u001b[0m",
      "\u001b[1;31mModuleNotFoundError\u001b[0m                       Traceback (most recent call last)",
      "\u001b[1;32m<ipython-input-3-3ae86454bfcc>\u001b[0m in \u001b[0;36m<module>\u001b[1;34m()\u001b[0m\n\u001b[1;32m----> 1\u001b[1;33m \u001b[1;32mfrom\u001b[0m \u001b[0mazureml\u001b[0m\u001b[1;33m.\u001b[0m\u001b[0mtrain\u001b[0m\u001b[1;33m.\u001b[0m\u001b[0mdnn\u001b[0m \u001b[1;32mimport\u001b[0m \u001b[0mTensorFlow\u001b[0m\u001b[1;33m\u001b[0m\u001b[0m\n\u001b[0m\u001b[0;32m      2\u001b[0m \u001b[1;32mfrom\u001b[0m \u001b[0mazureml\u001b[0m\u001b[1;33m.\u001b[0m\u001b[0mcontrib\u001b[0m\u001b[1;33m.\u001b[0m\u001b[0mtensorboard\u001b[0m \u001b[1;32mimport\u001b[0m \u001b[0mTensorboard\u001b[0m\u001b[1;33m\u001b[0m\u001b[0m\n\u001b[0;32m      3\u001b[0m \u001b[1;32mfrom\u001b[0m \u001b[0mazureml\u001b[0m\u001b[1;33m.\u001b[0m\u001b[0mcore\u001b[0m \u001b[1;32mimport\u001b[0m \u001b[0mWorkspace\u001b[0m\u001b[1;33m,\u001b[0m \u001b[0mExperiment\u001b[0m\u001b[1;33m\u001b[0m\u001b[0m\n\u001b[0;32m      4\u001b[0m \u001b[1;32mfrom\u001b[0m \u001b[0mazureml\u001b[0m\u001b[1;33m.\u001b[0m\u001b[0mcore\u001b[0m\u001b[1;33m.\u001b[0m\u001b[0mcompute\u001b[0m \u001b[1;32mimport\u001b[0m \u001b[0mComputeTarget\u001b[0m\u001b[1;33m,\u001b[0m \u001b[0mBatchAiCompute\u001b[0m\u001b[1;33m\u001b[0m\u001b[0m\n\u001b[0;32m      5\u001b[0m \u001b[1;32mfrom\u001b[0m \u001b[0mazureml\u001b[0m\u001b[1;33m.\u001b[0m\u001b[0mtrain\u001b[0m\u001b[1;33m.\u001b[0m\u001b[0mwidgets\u001b[0m \u001b[1;32mimport\u001b[0m \u001b[0mRunDetails\u001b[0m\u001b[1;33m\u001b[0m\u001b[0m\n",
      "\u001b[1;31mModuleNotFoundError\u001b[0m: No module named 'azureml'"
     ]
    }
   ],
   "source": [
    "from azureml.train.dnn import TensorFlow\n",
    "from azureml.contrib.tensorboard import Tensorboard\n",
    "from azureml.core import Workspace, Experiment\n",
    "from azureml.core.compute import ComputeTarget, BatchAiCompute\n",
    "from azureml.train.widgets import RunDetails\n",
    "from azureml.train.hyperdrive import *\n",
    "from azureml.train.automl import AutoMLConfig\n",
    "from azureml.train.automl.constants import Metric\n",
    "from ignite_demo.get_data import get_data\n",
    "import time\n",
    "import azureml.core\n",
    "import math\n",
    "\n",
    "source_folder = '.'\n",
    "print(\"SDK version:\", azureml.core.VERSION)"
   ]
  },
  {
   "cell_type": "code",
   "execution_count": 2,
   "metadata": {},
   "outputs": [
    {
     "name": "stdout",
     "output_type": "stream",
     "text": [
      "Requirement already satisfied: azureml-sdk in c:\\users\\jlam\\anaconda3\\envs\\py36\\lib\\site-packages (0.1.68)\n",
      "Requirement already satisfied: azureml-train==0.1.68.* in c:\\users\\jlam\\anaconda3\\envs\\py36\\lib\\site-packages (from azureml-sdk) (0.1.68)\n",
      "Requirement already satisfied: azureml-pipeline==0.1.68.* in c:\\users\\jlam\\anaconda3\\envs\\py36\\lib\\site-packages (from azureml-sdk) (0.1.68)\n",
      "Requirement already satisfied: azureml-core==0.1.68.* in c:\\users\\jlam\\anaconda3\\envs\\py36\\lib\\site-packages (from azureml-sdk) (0.1.68)\n",
      "Requirement already satisfied: azureml-train-core==0.1.68.* in c:\\users\\jlam\\anaconda3\\envs\\py36\\lib\\site-packages (from azureml-train==0.1.68.*->azureml-sdk) (0.1.68)\n",
      "Requirement already satisfied: azureml-pipeline-steps==0.1.68.* in c:\\users\\jlam\\anaconda3\\envs\\py36\\lib\\site-packages (from azureml-pipeline==0.1.68.*->azureml-sdk) (0.1.68)\n",
      "Requirement already satisfied: azureml-pipeline-core==0.1.68.* in c:\\users\\jlam\\anaconda3\\envs\\py36\\lib\\site-packages (from azureml-pipeline==0.1.68.*->azureml-sdk) (0.1.68)\n",
      "Requirement already satisfied: PyJWT in c:\\users\\jlam\\anaconda3\\envs\\py36\\lib\\site-packages (from azureml-core==0.1.68.*->azureml-sdk) (1.6.4)\n",
      "Requirement already satisfied: azure-mgmt-containerregistry>=2.0.0 in c:\\users\\jlam\\anaconda3\\envs\\py36\\lib\\site-packages (from azureml-core==0.1.68.*->azureml-sdk) (2.3.0)\n",
      "Requirement already satisfied: six>=1.11.0 in c:\\users\\jlam\\anaconda3\\envs\\py36\\lib\\site-packages (from azureml-core==0.1.68.*->azureml-sdk) (1.11.0)\n",
      "Requirement already satisfied: ndg-httpsclient in c:\\users\\jlam\\anaconda3\\envs\\py36\\lib\\site-packages (from azureml-core==0.1.68.*->azureml-sdk) (0.5.1)\n",
      "Requirement already satisfied: backports.tempfile in c:\\users\\jlam\\anaconda3\\envs\\py36\\lib\\site-packages (from azureml-core==0.1.68.*->azureml-sdk) (1.0)\n",
      "Requirement already satisfied: msrestazure>=0.4.33 in c:\\users\\jlam\\anaconda3\\envs\\py36\\lib\\site-packages (from azureml-core==0.1.68.*->azureml-sdk) (0.5.0)\n",
      "Requirement already satisfied: azure-mgmt-resource>=1.2.1 in c:\\users\\jlam\\anaconda3\\envs\\py36\\lib\\site-packages (from azureml-core==0.1.68.*->azureml-sdk) (2.0.0)\n",
      "Requirement already satisfied: azure-mgmt-keyvault>=0.40.0 in c:\\users\\jlam\\anaconda3\\envs\\py36\\lib\\site-packages (from azureml-core==0.1.68.*->azureml-sdk) (1.1.0)\n",
      "Requirement already satisfied: SecretStorage<3.0.0 in c:\\users\\jlam\\anaconda3\\envs\\py36\\lib\\site-packages (from azureml-core==0.1.68.*->azureml-sdk) (2.3.1)\n",
      "Requirement already satisfied: docker in c:\\users\\jlam\\anaconda3\\envs\\py36\\lib\\site-packages (from azureml-core==0.1.68.*->azureml-sdk) (3.5.1)\n",
      "Requirement already satisfied: pytz in c:\\users\\jlam\\anaconda3\\envs\\py36\\lib\\site-packages (from azureml-core==0.1.68.*->azureml-sdk) (2018.5)\n",
      "Requirement already satisfied: azure-cli-profile>=2.0.26 in c:\\users\\jlam\\anaconda3\\envs\\py36\\lib\\site-packages (from azureml-core==0.1.68.*->azureml-sdk) (2.1.1)\n",
      "Requirement already satisfied: azure-storage-blob>=1.1.0 in c:\\users\\jlam\\anaconda3\\envs\\py36\\lib\\site-packages (from azureml-core==0.1.68.*->azureml-sdk) (1.3.1)\n",
      "Requirement already satisfied: cryptography!=1.9,!=2.0.*,!=2.1.*,!=2.2.* in c:\\users\\jlam\\anaconda3\\envs\\py36\\lib\\site-packages (from azureml-core==0.1.68.*->azureml-sdk) (2.3.1)\n",
      "Requirement already satisfied: contextlib2 in c:\\users\\jlam\\anaconda3\\envs\\py36\\lib\\site-packages (from azureml-core==0.1.68.*->azureml-sdk) (0.5.5)\n",
      "Requirement already satisfied: azure-storage-common>=1.1.0 in c:\\users\\jlam\\anaconda3\\envs\\py36\\lib\\site-packages (from azureml-core==0.1.68.*->azureml-sdk) (1.3.0)\n",
      "Requirement already satisfied: python-dateutil>=2.7.3 in c:\\users\\jlam\\anaconda3\\envs\\py36\\lib\\site-packages (from azureml-core==0.1.68.*->azureml-sdk) (2.7.3)\n",
      "Requirement already satisfied: azure-graphrbac>=0.40.0 in c:\\users\\jlam\\anaconda3\\envs\\py36\\lib\\site-packages (from azureml-core==0.1.68.*->azureml-sdk) (0.51.1)\n",
      "Requirement already satisfied: msrest>=0.5.1 in c:\\users\\jlam\\anaconda3\\envs\\py36\\lib\\site-packages (from azureml-core==0.1.68.*->azureml-sdk) (0.6.1)\n",
      "Requirement already satisfied: urllib3>=1.23 in c:\\users\\jlam\\anaconda3\\envs\\py36\\lib\\site-packages (from azureml-core==0.1.68.*->azureml-sdk) (1.24)\n",
      "Requirement already satisfied: azure-common>=1.1.12 in c:\\users\\jlam\\anaconda3\\envs\\py36\\lib\\site-packages (from azureml-core==0.1.68.*->azureml-sdk) (1.1.16)\n",
      "Requirement already satisfied: requests>=2.19.1 in c:\\users\\jlam\\anaconda3\\envs\\py36\\lib\\site-packages (from azureml-core==0.1.68.*->azureml-sdk) (2.20.0)\n",
      "Requirement already satisfied: azure-storage-nspkg>=3.0.0 in c:\\users\\jlam\\anaconda3\\envs\\py36\\lib\\site-packages (from azureml-core==0.1.68.*->azureml-sdk) (3.0.0)\n",
      "Requirement already satisfied: pathspec in c:\\users\\jlam\\anaconda3\\envs\\py36\\lib\\site-packages (from azureml-core==0.1.68.*->azureml-sdk) (0.5.9)\n",
      "Requirement already satisfied: jsonpickle in c:\\users\\jlam\\anaconda3\\envs\\py36\\lib\\site-packages (from azureml-core==0.1.68.*->azureml-sdk) (1.0)\n",
      "Requirement already satisfied: azure-mgmt-storage>=1.5.0 in c:\\users\\jlam\\anaconda3\\envs\\py36\\lib\\site-packages (from azureml-core==0.1.68.*->azureml-sdk) (3.0.0)\n",
      "Requirement already satisfied: azure-cli-core>=2.0.38 in c:\\users\\jlam\\anaconda3\\envs\\py36\\lib\\site-packages (from azureml-core==0.1.68.*->azureml-sdk) (2.0.48)\n",
      "Requirement already satisfied: azure-mgmt-authorization>=0.40.0 in c:\\users\\jlam\\anaconda3\\envs\\py36\\lib\\site-packages (from azureml-core==0.1.68.*->azureml-sdk) (0.50.0)\n",
      "Requirement already satisfied: ruamel.yaml<=0.15.51,>=0.15.35 in c:\\users\\jlam\\anaconda3\\envs\\py36\\lib\\site-packages (from azureml-core==0.1.68.*->azureml-sdk) (0.15.51)\n",
      "Requirement already satisfied: azureml-telemetry==0.1.68.* in c:\\users\\jlam\\anaconda3\\envs\\py36\\lib\\site-packages (from azureml-train-core==0.1.68.*->azureml-train==0.1.68.*->azureml-sdk) (0.1.68)\n",
      "Requirement already satisfied: azureml-train-restclients-hyperdrive==0.1.68.* in c:\\users\\jlam\\anaconda3\\envs\\py36\\lib\\site-packages (from azureml-train-core==0.1.68.*->azureml-train==0.1.68.*->azureml-sdk) (0.1.68)\n",
      "Requirement already satisfied: certifi in c:\\users\\jlam\\anaconda3\\envs\\py36\\lib\\site-packages (from azureml-pipeline-steps==0.1.68.*->azureml-pipeline==0.1.68.*->azureml-sdk) (2018.10.15)\n",
      "Requirement already satisfied: pyasn1>=0.1.1 in c:\\users\\jlam\\anaconda3\\envs\\py36\\lib\\site-packages (from ndg-httpsclient->azureml-core==0.1.68.*->azureml-sdk) (0.4.4)\n",
      "Requirement already satisfied: PyOpenSSL in c:\\users\\jlam\\anaconda3\\envs\\py36\\lib\\site-packages (from ndg-httpsclient->azureml-core==0.1.68.*->azureml-sdk) (18.0.0)\n",
      "Requirement already satisfied: backports.weakref in c:\\users\\jlam\\anaconda3\\envs\\py36\\lib\\site-packages (from backports.tempfile->azureml-core==0.1.68.*->azureml-sdk) (1.0.post1)\n",
      "Requirement already satisfied: adal<2.0.0,>=0.6.0 in c:\\users\\jlam\\anaconda3\\envs\\py36\\lib\\site-packages (from msrestazure>=0.4.33->azureml-core==0.1.68.*->azureml-sdk) (1.2.0)\n",
      "Requirement already satisfied: azure-mgmt-nspkg>=2.0.0 in c:\\users\\jlam\\anaconda3\\envs\\py36\\lib\\site-packages (from azure-mgmt-resource>=1.2.1->azureml-core==0.1.68.*->azureml-sdk) (3.0.2)\n",
      "Requirement already satisfied: docker-pycreds>=0.3.0 in c:\\users\\jlam\\anaconda3\\envs\\py36\\lib\\site-packages (from docker->azureml-core==0.1.68.*->azureml-sdk) (0.3.0)\n",
      "Requirement already satisfied: websocket-client>=0.32.0 in c:\\users\\jlam\\anaconda3\\envs\\py36\\lib\\site-packages (from docker->azureml-core==0.1.68.*->azureml-sdk) (0.53.0)\n",
      "Requirement already satisfied: pypiwin32==223; sys_platform == \"win32\" and python_version >= \"3.6\" in c:\\users\\jlam\\anaconda3\\envs\\py36\\lib\\site-packages (from docker->azureml-core==0.1.68.*->azureml-sdk) (223)\n",
      "Requirement already satisfied: azure-cli-command-modules-nspkg>=2.0.0 in c:\\users\\jlam\\anaconda3\\envs\\py36\\lib\\site-packages (from azure-cli-profile>=2.0.26->azureml-core==0.1.68.*->azureml-sdk) (2.0.2)\n",
      "Requirement already satisfied: idna>=2.1 in c:\\users\\jlam\\anaconda3\\envs\\py36\\lib\\site-packages (from cryptography!=1.9,!=2.0.*,!=2.1.*,!=2.2.*->azureml-core==0.1.68.*->azureml-sdk) (2.7)\n",
      "Requirement already satisfied: asn1crypto>=0.21.0 in c:\\users\\jlam\\anaconda3\\envs\\py36\\lib\\site-packages (from cryptography!=1.9,!=2.0.*,!=2.1.*,!=2.2.*->azureml-core==0.1.68.*->azureml-sdk) (0.24.0)\n",
      "Requirement already satisfied: cffi!=1.11.3,>=1.7 in c:\\users\\jlam\\anaconda3\\envs\\py36\\lib\\site-packages (from cryptography!=1.9,!=2.0.*,!=2.1.*,!=2.2.*->azureml-core==0.1.68.*->azureml-sdk) (1.11.5)\n",
      "Requirement already satisfied: isodate>=0.6.0 in c:\\users\\jlam\\anaconda3\\envs\\py36\\lib\\site-packages (from msrest>=0.5.1->azureml-core==0.1.68.*->azureml-sdk) (0.6.0)\n",
      "Requirement already satisfied: requests-oauthlib>=0.5.0 in c:\\users\\jlam\\anaconda3\\envs\\py36\\lib\\site-packages (from msrest>=0.5.1->azureml-core==0.1.68.*->azureml-sdk) (1.0.0)\n",
      "Requirement already satisfied: chardet<3.1.0,>=3.0.2 in c:\\users\\jlam\\anaconda3\\envs\\py36\\lib\\site-packages (from requests>=2.19.1->azureml-core==0.1.68.*->azureml-sdk) (3.0.4)\n",
      "Requirement already satisfied: azure-nspkg>=2.0.0 in c:\\users\\jlam\\anaconda3\\envs\\py36\\lib\\site-packages (from azure-storage-nspkg>=3.0.0->azureml-core==0.1.68.*->azureml-sdk) (3.0.2)\n",
      "Requirement already satisfied: azure-cli-nspkg>=2.0.0 in c:\\users\\jlam\\anaconda3\\envs\\py36\\lib\\site-packages (from azure-cli-core>=2.0.38->azureml-core==0.1.68.*->azureml-sdk) (3.0.3)\n",
      "Requirement already satisfied: knack==0.4.3 in c:\\users\\jlam\\anaconda3\\envs\\py36\\lib\\site-packages (from azure-cli-core>=2.0.38->azureml-core==0.1.68.*->azureml-sdk) (0.4.3)\n",
      "Requirement already satisfied: azure-cli-telemetry in c:\\users\\jlam\\anaconda3\\envs\\py36\\lib\\site-packages (from azure-cli-core>=2.0.38->azureml-core==0.1.68.*->azureml-sdk) (1.0.0)\n",
      "Requirement already satisfied: pip in c:\\users\\jlam\\anaconda3\\envs\\py36\\lib\\site-packages (from azure-cli-core>=2.0.38->azureml-core==0.1.68.*->azureml-sdk) (10.0.1)\n",
      "Requirement already satisfied: argcomplete>=1.8.0 in c:\\users\\jlam\\anaconda3\\envs\\py36\\lib\\site-packages (from azure-cli-core>=2.0.38->azureml-core==0.1.68.*->azureml-sdk) (1.9.4)\n",
      "Requirement already satisfied: wheel==0.30.0 in c:\\users\\jlam\\anaconda3\\envs\\py36\\lib\\site-packages (from azure-cli-core>=2.0.38->azureml-core==0.1.68.*->azureml-sdk) (0.30.0)\n",
      "Requirement already satisfied: antlr4-python3-runtime in c:\\users\\jlam\\anaconda3\\envs\\py36\\lib\\site-packages (from azure-cli-core>=2.0.38->azureml-core==0.1.68.*->azureml-sdk) (4.7.1)\n",
      "Requirement already satisfied: pyyaml~=3.13 in c:\\users\\jlam\\anaconda3\\envs\\py36\\lib\\site-packages (from azure-cli-core>=2.0.38->azureml-core==0.1.68.*->azureml-sdk) (3.13)\n",
      "Requirement already satisfied: jmespath in c:\\users\\jlam\\anaconda3\\envs\\py36\\lib\\site-packages (from azure-cli-core>=2.0.38->azureml-core==0.1.68.*->azureml-sdk) (0.9.3)\n",
      "Requirement already satisfied: tabulate<=0.8.2,>=0.7.7 in c:\\users\\jlam\\anaconda3\\envs\\py36\\lib\\site-packages (from azure-cli-core>=2.0.38->azureml-core==0.1.68.*->azureml-sdk) (0.8.2)\n",
      "Requirement already satisfied: colorama>=0.3.9 in c:\\users\\jlam\\anaconda3\\envs\\py36\\lib\\site-packages (from azure-cli-core>=2.0.38->azureml-core==0.1.68.*->azureml-sdk) (0.4.0)\n",
      "Requirement already satisfied: pygments in c:\\users\\jlam\\anaconda3\\envs\\py36\\lib\\site-packages (from azure-cli-core>=2.0.38->azureml-core==0.1.68.*->azureml-sdk) (2.2.0)\n",
      "Requirement already satisfied: humanfriendly>=4.7 in c:\\users\\jlam\\anaconda3\\envs\\py36\\lib\\site-packages (from azure-cli-core>=2.0.38->azureml-core==0.1.68.*->azureml-sdk) (4.17)\n",
      "Requirement already satisfied: paramiko>=2.0.8 in c:\\users\\jlam\\anaconda3\\envs\\py36\\lib\\site-packages (from azure-cli-core>=2.0.38->azureml-core==0.1.68.*->azureml-sdk) (2.4.2)\n",
      "Requirement already satisfied: applicationinsights in c:\\users\\jlam\\anaconda3\\envs\\py36\\lib\\site-packages (from azureml-telemetry==0.1.68.*->azureml-train-core==0.1.68.*->azureml-train==0.1.68.*->azureml-sdk) (0.11.7)\n",
      "Requirement already satisfied: pywin32>=223 in c:\\users\\jlam\\anaconda3\\envs\\py36\\lib\\site-packages (from pypiwin32==223; sys_platform == \"win32\" and python_version >= \"3.6\"->docker->azureml-core==0.1.68.*->azureml-sdk) (224)\n",
      "Requirement already satisfied: pycparser in c:\\users\\jlam\\anaconda3\\envs\\py36\\lib\\site-packages (from cffi!=1.11.3,>=1.7->cryptography!=1.9,!=2.0.*,!=2.1.*,!=2.2.*->azureml-core==0.1.68.*->azureml-sdk) (2.19)\n",
      "Requirement already satisfied: oauthlib>=0.6.2 in c:\\users\\jlam\\anaconda3\\envs\\py36\\lib\\site-packages (from requests-oauthlib>=0.5.0->msrest>=0.5.1->azureml-core==0.1.68.*->azureml-sdk) (2.1.0)\n",
      "Requirement already satisfied: portalocker==1.2.1 in c:\\users\\jlam\\anaconda3\\envs\\py36\\lib\\site-packages (from azure-cli-telemetry->azure-cli-core>=2.0.38->azureml-core==0.1.68.*->azureml-sdk) (1.2.1)\n",
      "Requirement already satisfied: pyreadline; sys_platform == \"win32\" in c:\\users\\jlam\\anaconda3\\envs\\py36\\lib\\site-packages (from humanfriendly>=4.7->azure-cli-core>=2.0.38->azureml-core==0.1.68.*->azureml-sdk) (2.1)\n",
      "Requirement already satisfied: bcrypt>=3.1.3 in c:\\users\\jlam\\anaconda3\\envs\\py36\\lib\\site-packages (from paramiko>=2.0.8->azure-cli-core>=2.0.38->azureml-core==0.1.68.*->azureml-sdk) (3.1.4)\n",
      "Requirement already satisfied: pynacl>=1.0.1 in c:\\users\\jlam\\anaconda3\\envs\\py36\\lib\\site-packages (from paramiko>=2.0.8->azure-cli-core>=2.0.38->azureml-core==0.1.68.*->azureml-sdk) (1.3.0)\n"
     ]
    },
    {
     "name": "stderr",
     "output_type": "stream",
     "text": [
      "mkl-random 1.0.1 requires cython, which is not installed.\n",
      "tensorflow 1.11.0 has requirement setuptools<=39.1.0, but you'll have setuptools 40.4.3 which is incompatible.\n",
      "You are using pip version 10.0.1, however version 18.1 is available.\n",
      "You should consider upgrading via the 'python -m pip install --upgrade pip' command.\n"
     ]
    }
   ],
   "source": [
    "!pip install azureml-sdk"
   ]
  },
  {
   "cell_type": "code",
   "execution_count": 4,
   "metadata": {},
   "outputs": [
    {
     "ename": "ModuleNotFoundError",
     "evalue": "No module named 'azureml'",
     "output_type": "error",
     "traceback": [
      "\u001b[1;31m---------------------------------------------------------------------------\u001b[0m",
      "\u001b[1;31mModuleNotFoundError\u001b[0m                       Traceback (most recent call last)",
      "\u001b[1;32m<ipython-input-4-652c1ae46e07>\u001b[0m in \u001b[0;36m<module>\u001b[1;34m()\u001b[0m\n\u001b[1;32m----> 1\u001b[1;33m \u001b[1;32mimport\u001b[0m \u001b[0mazureml\u001b[0m\u001b[1;33m\u001b[0m\u001b[0m\n\u001b[0m",
      "\u001b[1;31mModuleNotFoundError\u001b[0m: No module named 'azureml'"
     ]
    }
   ],
   "source": [
    "import azureml"
   ]
  },
  {
   "cell_type": "code",
   "execution_count": null,
   "metadata": {},
   "outputs": [],
   "source": []
  }
 ],
 "metadata": {
  "kernelspec": {
   "display_name": "Python 3",
   "language": "python",
   "name": "python3"
  },
  "language_info": {
   "codemirror_mode": {
    "name": "ipython",
    "version": 3
   },
   "file_extension": ".py",
   "mimetype": "text/x-python",
   "name": "python",
   "nbconvert_exporter": "python",
   "pygments_lexer": "ipython3",
   "version": "3.6.5"
  }
 },
 "nbformat": 4,
 "nbformat_minor": 2
}
